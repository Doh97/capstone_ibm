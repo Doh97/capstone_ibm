{
 "cells": [
  {
   "cell_type": "markdown",
   "metadata": {},
   "source": [
    "A) A description of the problem and a discussion of the background. "
   ]
  },
  {
   "cell_type": "markdown",
   "metadata": {},
   "source": [
    "New York has always been the vibrant city. It is often selected as the best city for college students who seek professional success, as New York is full of job opportunities. \n",
    "Therefore, through completing this capstone project, I would like to find the best place to live in New York for college students. \n",
    "Specifically, I will start with the area (Manhattan, Brooklyn) nearby New York University that has 50,000+ students. \n",
    "It starts with the assumption that college students like places nearby sports facilities such as gyms and yoga studios.  "
   ]
  },
  {
   "cell_type": "markdown",
   "metadata": {},
   "source": [
    "B) Describe the data that you will be using to solve the problem or execute your idea."
   ]
  },
  {
   "cell_type": "markdown",
   "metadata": {},
   "source": [
    "I will use the \"newyork_data.json\" data that we used for the practice in the earlier module and Forsquare data to find clusters of sports facilities in New York. This will give the recommendation of places to live for young people moving in New York."
   ]
  }
 ],
 "metadata": {
  "kernelspec": {
   "display_name": "Python",
   "language": "python",
   "name": "conda-env-python-py"
  },
  "language_info": {
   "codemirror_mode": {
    "name": "ipython",
    "version": 3
   },
   "file_extension": ".py",
   "mimetype": "text/x-python",
   "name": "python",
   "nbconvert_exporter": "python",
   "pygments_lexer": "ipython3",
   "version": "3.6.12"
  }
 },
 "nbformat": 4,
 "nbformat_minor": 4
}
